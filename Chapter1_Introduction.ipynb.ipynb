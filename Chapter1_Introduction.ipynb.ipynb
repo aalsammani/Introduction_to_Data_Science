{
 "cells": [
  {
   "cell_type": "markdown",
   "id": "401b8f32-44c4-4eb1-b347-d45ab8932e85",
   "metadata": {},
   "source": [
    "# Chapter 1: Introduction to Data Science\n",
    "\n",
    "Welcome to the Data Science Textbook Demo!\n",
    "\n",
    "In this chapter, we introduce the field of data science, its applications, and what you will learn in this textbook.\n"
   ]
  },
  {
   "cell_type": "code",
   "execution_count": 1,
   "id": "5693b450-af17-4481-b7ea-a525847a4030",
   "metadata": {},
   "outputs": [
    {
     "name": "stdout",
     "output_type": "stream",
     "text": [
      "Hello, Data Science!\n"
     ]
    }
   ],
   "source": [
    "# A simple Python code cell example\n",
    "print(\"Hello, Data Science!\")"
   ]
  },
  {
   "cell_type": "code",
   "execution_count": null,
   "id": "baa72829-422b-4a62-a660-1782f069e7eb",
   "metadata": {},
   "outputs": [],
   "source": []
  }
 ],
 "metadata": {
  "kernelspec": {
   "display_name": "Python 3 (ipykernel)",
   "language": "python",
   "name": "python3"
  },
  "language_info": {
   "codemirror_mode": {
    "name": "ipython",
    "version": 3
   },
   "file_extension": ".py",
   "mimetype": "text/x-python",
   "name": "python",
   "nbconvert_exporter": "python",
   "pygments_lexer": "ipython3",
   "version": "3.12.4"
  }
 },
 "nbformat": 4,
 "nbformat_minor": 5
}
